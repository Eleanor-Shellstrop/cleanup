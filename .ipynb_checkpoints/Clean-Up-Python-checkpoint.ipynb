{
 "cells": [
  {
   "cell_type": "markdown",
   "id": "6cc16b32",
   "metadata": {},
   "source": [
    "# Clean up data using Python\n",
    "\n",
    "For this section of the project, I am cleaning mock data with Python. "
   ]
  },
  {
   "cell_type": "code",
   "execution_count": 1,
   "id": "8526ae0b",
   "metadata": {},
   "outputs": [
    {
     "data": {
      "text/plain": [
       "'Pet name;; owner name;; pet type;; pet dob // Fluffy;; Michael Scott;; cat;; 5/20/2019 // Spots McGoo  ;; Jan  Levinson ;; dog;; 12/1/2015 // Speedy   ;; Ryan Howard ;; turtle ;; unknown // Gordon Gekko ;; Ryan Howard ;; turtle ;; unknown // Winston Churchill ;;   Pam   Beesley ;; dog  ;; 3/30/2009 // Mr. Whiskers  ;; Jim Halpert;; cat ;; 4/5/2018 // Henrietta;; Dwight   Shrute;; porcupine  ;; unknown // Sprinkles ;; Angela Martin  ;; cat ;; 7/19/2000 // Princess Lady;; Angela Martin  ;; cat ;; 8/4/2017 //  Ember ;; Angela Martin  ;; cat ;; 4/3/2015 //   Milky Way ;; Angela Martin  ;; cat ;; 11/15/2012 // Diane;; Angela Martin ;; cat   ;; 9/21/2015 // Lumpy  ;;  Angela  Martin  ;; cat ;; 02/07/2012 // Petals ;; Angela Martin  ;; cat ;; 10/31/2010 // Mr. Ash ;; Angela Martin ;; cat ;; 6/1/2005 // Phillip ;;   Angela Martin;; cat ;; 3/20/2009 // Bandit ;; Angela Martin ;; cat ;; 2/13/2016 // Comstock   ;; Angela Martin ;; cat ;; 10/03/2017 // Lily ;; Stanley Hudson ;; dog ;; 8/8/2012 // Ruth Bader Ginsberg ;; Oscar Martinez ;; dog ;; 9/1/2016 // Neitzsche ;; Oscar Martinez ;; dog ;; 7/31/2015 // Buster ;; Phyllis Vance ;; dog ;; 8/15/2010 // Sadie ;; Meredith Palmer ;; cat ;; 1/15/2020 // Wuphf ;; Kelly Kapoor   ;; dog  ;; 12/3/2018'"
      ]
     },
     "execution_count": 1,
     "metadata": {},
     "output_type": "execute_result"
    }
   ],
   "source": [
    "# Open file, save to f\n",
    "f = open('vet_data.txt', 'r')\n",
    "\n",
    "# Save data to variable\n",
    "content = f.read()\n",
    "\n",
    "# Check work\n",
    "content"
   ]
  },
  {
   "cell_type": "code",
   "execution_count": 2,
   "id": "0da08c3d",
   "metadata": {},
   "outputs": [
    {
     "data": {
      "text/plain": [
       "['Pet name+ owner name+ pet type+ pet dob ',\n",
       " ' Fluffy+ Michael Scott+ cat+ 5/20/2019 ',\n",
       " ' Spots McGoo  + Jan  Levinson + dog+ 12/1/2015 ',\n",
       " ' Speedy   + Ryan Howard + turtle + unknown ',\n",
       " ' Gordon Gekko + Ryan Howard + turtle + unknown ',\n",
       " ' Winston Churchill +   Pam   Beesley + dog  + 3/30/2009 ',\n",
       " ' Mr. Whiskers  + Jim Halpert+ cat + 4/5/2018 ',\n",
       " ' Henrietta+ Dwight   Shrute+ porcupine  + unknown ',\n",
       " ' Sprinkles + Angela Martin  + cat + 7/19/2000 ',\n",
       " ' Princess Lady+ Angela Martin  + cat + 8/4/2017 ',\n",
       " '  Ember + Angela Martin  + cat + 4/3/2015 ',\n",
       " '   Milky Way + Angela Martin  + cat + 11/15/2012 ',\n",
       " ' Diane+ Angela Martin + cat   + 9/21/2015 ',\n",
       " ' Lumpy  +  Angela  Martin  + cat + 02/07/2012 ',\n",
       " ' Petals + Angela Martin  + cat + 10/31/2010 ',\n",
       " ' Mr. Ash + Angela Martin + cat + 6/1/2005 ',\n",
       " ' Phillip +   Angela Martin+ cat + 3/20/2009 ',\n",
       " ' Bandit + Angela Martin + cat + 2/13/2016 ',\n",
       " ' Comstock   + Angela Martin + cat + 10/03/2017 ',\n",
       " ' Lily + Stanley Hudson + dog + 8/8/2012 ',\n",
       " ' Ruth Bader Ginsberg + Oscar Martinez + dog + 9/1/2016 ',\n",
       " ' Neitzsche + Oscar Martinez + dog + 7/31/2015 ',\n",
       " ' Buster + Phyllis Vance + dog + 8/15/2010 ',\n",
       " ' Sadie + Meredith Palmer + cat + 1/15/2020 ',\n",
       " ' Wuphf + Kelly Kapoor   + dog  + 12/3/2018']"
      ]
     },
     "execution_count": 2,
     "metadata": {},
     "output_type": "execute_result"
    }
   ],
   "source": [
    "content_replaced = content.replace(\";;\", \"+\")\n",
    "\n",
    "new_patients = content_replaced.replace(\"//\", \",\").split(\",\")\n",
    "\n",
    "# Check work\n",
    "new_patients"
   ]
  },
  {
   "cell_type": "code",
   "execution_count": 3,
   "id": "15143926",
   "metadata": {},
   "outputs": [
    {
     "data": {
      "text/plain": [
       "[['Pet name', ' owner name', ' pet type', ' pet dob '],\n",
       " [' Fluffy', ' Michael Scott', ' cat', ' 5/20/2019 '],\n",
       " [' Spots McGoo  ', ' Jan  Levinson ', ' dog', ' 12/1/2015 '],\n",
       " [' Speedy   ', ' Ryan Howard ', ' turtle ', ' unknown '],\n",
       " [' Gordon Gekko ', ' Ryan Howard ', ' turtle ', ' unknown '],\n",
       " [' Winston Churchill ', '   Pam   Beesley ', ' dog  ', ' 3/30/2009 '],\n",
       " [' Mr. Whiskers  ', ' Jim Halpert', ' cat ', ' 4/5/2018 '],\n",
       " [' Henrietta', ' Dwight   Shrute', ' porcupine  ', ' unknown '],\n",
       " [' Sprinkles ', ' Angela Martin  ', ' cat ', ' 7/19/2000 '],\n",
       " [' Princess Lady', ' Angela Martin  ', ' cat ', ' 8/4/2017 '],\n",
       " ['  Ember ', ' Angela Martin  ', ' cat ', ' 4/3/2015 '],\n",
       " ['   Milky Way ', ' Angela Martin  ', ' cat ', ' 11/15/2012 '],\n",
       " [' Diane', ' Angela Martin ', ' cat   ', ' 9/21/2015 '],\n",
       " [' Lumpy  ', '  Angela  Martin  ', ' cat ', ' 02/07/2012 '],\n",
       " [' Petals ', ' Angela Martin  ', ' cat ', ' 10/31/2010 '],\n",
       " [' Mr. Ash ', ' Angela Martin ', ' cat ', ' 6/1/2005 '],\n",
       " [' Phillip ', '   Angela Martin', ' cat ', ' 3/20/2009 '],\n",
       " [' Bandit ', ' Angela Martin ', ' cat ', ' 2/13/2016 '],\n",
       " [' Comstock   ', ' Angela Martin ', ' cat ', ' 10/03/2017 '],\n",
       " [' Lily ', ' Stanley Hudson ', ' dog ', ' 8/8/2012 '],\n",
       " [' Ruth Bader Ginsberg ', ' Oscar Martinez ', ' dog ', ' 9/1/2016 '],\n",
       " [' Neitzsche ', ' Oscar Martinez ', ' dog ', ' 7/31/2015 '],\n",
       " [' Buster ', ' Phyllis Vance ', ' dog ', ' 8/15/2010 '],\n",
       " [' Sadie ', ' Meredith Palmer ', ' cat ', ' 1/15/2020 '],\n",
       " [' Wuphf ', ' Kelly Kapoor   ', ' dog  ', ' 12/3/2018']]"
      ]
     },
     "execution_count": 3,
     "metadata": {},
     "output_type": "execute_result"
    }
   ],
   "source": [
    "# Split large list into entries\n",
    "\n",
    "new_patients_split = []\n",
    "\n",
    "for patient in new_patients:\n",
    "    new_patients_split.append(patient.split(\"+\"))\n",
    "\n",
    "# Check work\n",
    "new_patients_split"
   ]
  },
  {
   "cell_type": "code",
   "execution_count": 4,
   "id": "f0a88ee9",
   "metadata": {},
   "outputs": [
    {
     "data": {
      "text/plain": [
       "[['Pet name', 'owner name', 'pet type', 'pet dob'],\n",
       " ['Fluffy', 'Michael Scott', 'cat', '5/20/2019'],\n",
       " ['Spots McGoo', 'Jan Levinson', 'dog', '12/1/2015'],\n",
       " ['Speedy', 'Ryan Howard', 'turtle', 'unknown'],\n",
       " ['Gordon Gekko', 'Ryan Howard', 'turtle', 'unknown'],\n",
       " ['Winston Churchill', 'Pam Beesley', 'dog', '3/30/2009'],\n",
       " ['Mr. Whiskers', 'Jim Halpert', 'cat', '4/5/2018'],\n",
       " ['Henrietta', 'Dwight Shrute', 'porcupine', 'unknown'],\n",
       " ['Sprinkles', 'Angela Martin', 'cat', '7/19/2000'],\n",
       " ['Princess Lady', 'Angela Martin', 'cat', '8/4/2017'],\n",
       " ['Ember', 'Angela Martin', 'cat', '4/3/2015'],\n",
       " ['Milky Way', 'Angela Martin', 'cat', '11/15/2012'],\n",
       " ['Diane', 'Angela Martin', 'cat', '9/21/2015'],\n",
       " ['Lumpy', 'Angela Martin', 'cat', '02/07/2012'],\n",
       " ['Petals', 'Angela Martin', 'cat', '10/31/2010'],\n",
       " ['Mr. Ash', 'Angela Martin', 'cat', '6/1/2005'],\n",
       " ['Phillip', 'Angela Martin', 'cat', '3/20/2009'],\n",
       " ['Bandit', 'Angela Martin', 'cat', '2/13/2016'],\n",
       " ['Comstock', 'Angela Martin', 'cat', '10/03/2017'],\n",
       " ['Lily', 'Stanley Hudson', 'dog', '8/8/2012'],\n",
       " ['Ruth Bader Ginsberg', 'Oscar Martinez', 'dog', '9/1/2016'],\n",
       " ['Neitzsche', 'Oscar Martinez', 'dog', '7/31/2015'],\n",
       " ['Buster', 'Phyllis Vance', 'dog', '8/15/2010'],\n",
       " ['Sadie', 'Meredith Palmer', 'cat', '1/15/2020'],\n",
       " ['Wuphf', 'Kelly Kapoor', 'dog', '12/3/2018']]"
      ]
     },
     "execution_count": 4,
     "metadata": {},
     "output_type": "execute_result"
    }
   ],
   "source": [
    "# Iterate and remove extra spacing as in\n",
    "# ' Dwight   Shrute', append to new list\n",
    "\n",
    "new_patients_clean = []\n",
    "\n",
    "for entry in new_patients_split:\n",
    "  patient_data_clean = []\n",
    "  for data_point in entry:\n",
    "    patient_data_clean.append(\" \".join(data_point.split()))\n",
    "  new_patients_clean.append(patient_data_clean)\n",
    "\n",
    "new_patients_clean"
   ]
  },
  {
   "cell_type": "code",
   "execution_count": 5,
   "id": "3af65b55",
   "metadata": {},
   "outputs": [
    {
     "data": {
      "text/plain": [
       "[['Bandit', 'Angela Martin', 'cat', '2/13/2016'],\n",
       " ['Buster', 'Phyllis Vance', 'dog', '8/15/2010'],\n",
       " ['Comstock', 'Angela Martin', 'cat', '10/03/2017'],\n",
       " ['Diane', 'Angela Martin', 'cat', '9/21/2015'],\n",
       " ['Ember', 'Angela Martin', 'cat', '4/3/2015'],\n",
       " ['Fluffy', 'Michael Scott', 'cat', '5/20/2019'],\n",
       " ['Gordon Gekko', 'Ryan Howard', 'turtle', 'unknown'],\n",
       " ['Henrietta', 'Dwight Shrute', 'porcupine', 'unknown'],\n",
       " ['Lily', 'Stanley Hudson', 'dog', '8/8/2012'],\n",
       " ['Lumpy', 'Angela Martin', 'cat', '02/07/2012'],\n",
       " ['Milky Way', 'Angela Martin', 'cat', '11/15/2012'],\n",
       " ['Mr. Ash', 'Angela Martin', 'cat', '6/1/2005'],\n",
       " ['Mr. Whiskers', 'Jim Halpert', 'cat', '4/5/2018'],\n",
       " ['Neitzsche', 'Oscar Martinez', 'dog', '7/31/2015'],\n",
       " ['Pet name', 'owner name', 'pet type', 'pet dob'],\n",
       " ['Petals', 'Angela Martin', 'cat', '10/31/2010'],\n",
       " ['Phillip', 'Angela Martin', 'cat', '3/20/2009'],\n",
       " ['Princess Lady', 'Angela Martin', 'cat', '8/4/2017'],\n",
       " ['Ruth Bader Ginsberg', 'Oscar Martinez', 'dog', '9/1/2016'],\n",
       " ['Sadie', 'Meredith Palmer', 'cat', '1/15/2020'],\n",
       " ['Speedy', 'Ryan Howard', 'turtle', 'unknown'],\n",
       " ['Spots McGoo', 'Jan Levinson', 'dog', '12/1/2015'],\n",
       " ['Sprinkles', 'Angela Martin', 'cat', '7/19/2000'],\n",
       " ['Winston Churchill', 'Pam Beesley', 'dog', '3/30/2009'],\n",
       " ['Wuphf', 'Kelly Kapoor', 'dog', '12/3/2018']]"
      ]
     },
     "execution_count": 5,
     "metadata": {},
     "output_type": "execute_result"
    }
   ],
   "source": [
    "pet_name_sorted = sorted(new_patients_clean, key=lambda x: x[0])\n",
    "\n",
    "pet_name_sorted"
   ]
  },
  {
   "cell_type": "code",
   "execution_count": 6,
   "id": "1af59c5d",
   "metadata": {},
   "outputs": [
    {
     "data": {
      "text/plain": [
       "[['Sprinkles', 'Angela Martin', 'cat', '7/19/2000'],\n",
       " ['Princess Lady', 'Angela Martin', 'cat', '8/4/2017'],\n",
       " ['Ember', 'Angela Martin', 'cat', '4/3/2015'],\n",
       " ['Milky Way', 'Angela Martin', 'cat', '11/15/2012'],\n",
       " ['Diane', 'Angela Martin', 'cat', '9/21/2015'],\n",
       " ['Lumpy', 'Angela Martin', 'cat', '02/07/2012'],\n",
       " ['Petals', 'Angela Martin', 'cat', '10/31/2010'],\n",
       " ['Mr. Ash', 'Angela Martin', 'cat', '6/1/2005'],\n",
       " ['Phillip', 'Angela Martin', 'cat', '3/20/2009'],\n",
       " ['Bandit', 'Angela Martin', 'cat', '2/13/2016'],\n",
       " ['Comstock', 'Angela Martin', 'cat', '10/03/2017'],\n",
       " ['Henrietta', 'Dwight Shrute', 'porcupine', 'unknown'],\n",
       " ['Spots McGoo', 'Jan Levinson', 'dog', '12/1/2015'],\n",
       " ['Mr. Whiskers', 'Jim Halpert', 'cat', '4/5/2018'],\n",
       " ['Wuphf', 'Kelly Kapoor', 'dog', '12/3/2018'],\n",
       " ['Sadie', 'Meredith Palmer', 'cat', '1/15/2020'],\n",
       " ['Fluffy', 'Michael Scott', 'cat', '5/20/2019'],\n",
       " ['Ruth Bader Ginsberg', 'Oscar Martinez', 'dog', '9/1/2016'],\n",
       " ['Neitzsche', 'Oscar Martinez', 'dog', '7/31/2015'],\n",
       " ['Winston Churchill', 'Pam Beesley', 'dog', '3/30/2009'],\n",
       " ['Buster', 'Phyllis Vance', 'dog', '8/15/2010'],\n",
       " ['Speedy', 'Ryan Howard', 'turtle', 'unknown'],\n",
       " ['Gordon Gekko', 'Ryan Howard', 'turtle', 'unknown'],\n",
       " ['Lily', 'Stanley Hudson', 'dog', '8/8/2012'],\n",
       " ['Pet name', 'owner name', 'pet type', 'pet dob']]"
      ]
     },
     "execution_count": 6,
     "metadata": {},
     "output_type": "execute_result"
    }
   ],
   "source": [
    "owner_name_sorted = sorted(new_patients_clean, key=lambda x: x[1])\n",
    "\n",
    "owner_name_sorted"
   ]
  },
  {
   "cell_type": "code",
   "execution_count": 7,
   "id": "9497d263",
   "metadata": {},
   "outputs": [
    {
     "data": {
      "text/plain": [
       "[['Fluffy', 'Michael Scott', 'cat', '5/20/2019'],\n",
       " ['Mr. Whiskers', 'Jim Halpert', 'cat', '4/5/2018'],\n",
       " ['Sprinkles', 'Angela Martin', 'cat', '7/19/2000'],\n",
       " ['Princess Lady', 'Angela Martin', 'cat', '8/4/2017'],\n",
       " ['Ember', 'Angela Martin', 'cat', '4/3/2015'],\n",
       " ['Milky Way', 'Angela Martin', 'cat', '11/15/2012'],\n",
       " ['Diane', 'Angela Martin', 'cat', '9/21/2015'],\n",
       " ['Lumpy', 'Angela Martin', 'cat', '02/07/2012'],\n",
       " ['Petals', 'Angela Martin', 'cat', '10/31/2010'],\n",
       " ['Mr. Ash', 'Angela Martin', 'cat', '6/1/2005'],\n",
       " ['Phillip', 'Angela Martin', 'cat', '3/20/2009'],\n",
       " ['Bandit', 'Angela Martin', 'cat', '2/13/2016'],\n",
       " ['Comstock', 'Angela Martin', 'cat', '10/03/2017'],\n",
       " ['Sadie', 'Meredith Palmer', 'cat', '1/15/2020'],\n",
       " ['Spots McGoo', 'Jan Levinson', 'dog', '12/1/2015'],\n",
       " ['Winston Churchill', 'Pam Beesley', 'dog', '3/30/2009'],\n",
       " ['Lily', 'Stanley Hudson', 'dog', '8/8/2012'],\n",
       " ['Ruth Bader Ginsberg', 'Oscar Martinez', 'dog', '9/1/2016'],\n",
       " ['Neitzsche', 'Oscar Martinez', 'dog', '7/31/2015'],\n",
       " ['Buster', 'Phyllis Vance', 'dog', '8/15/2010'],\n",
       " ['Wuphf', 'Kelly Kapoor', 'dog', '12/3/2018'],\n",
       " ['Pet name', 'owner name', 'pet type', 'pet dob'],\n",
       " ['Henrietta', 'Dwight Shrute', 'porcupine', 'unknown'],\n",
       " ['Speedy', 'Ryan Howard', 'turtle', 'unknown'],\n",
       " ['Gordon Gekko', 'Ryan Howard', 'turtle', 'unknown']]"
      ]
     },
     "execution_count": 7,
     "metadata": {},
     "output_type": "execute_result"
    }
   ],
   "source": [
    "pet_type_sorted = sorted(new_patients_clean, key=lambda x: x[2])\n",
    "\n",
    "pet_type_sorted"
   ]
  },
  {
   "cell_type": "markdown",
   "id": "6321ec0d",
   "metadata": {},
   "source": [
    "## Scenario: \n",
    "\n",
    "Split the owner name into two fields per entry (first name and last name).\n",
    "Make a list of pet names with the pet's name as first name and the owner's last name."
   ]
  },
  {
   "cell_type": "code",
   "execution_count": 15,
   "id": "e9434b1a",
   "metadata": {},
   "outputs": [
    {
     "data": {
      "text/plain": [
       "[['Pet name name', 'owner', 'name'],\n",
       " ['Fluffy Scott', 'Michael', 'Scott'],\n",
       " ['Spots McGoo Levinson', 'Jan', 'Levinson'],\n",
       " ['Speedy Howard', 'Ryan', 'Howard'],\n",
       " ['Gordon Gekko Howard', 'Ryan', 'Howard'],\n",
       " ['Winston Churchill Beesley', 'Pam', 'Beesley'],\n",
       " ['Mr. Whiskers Halpert', 'Jim', 'Halpert'],\n",
       " ['Henrietta Shrute', 'Dwight', 'Shrute'],\n",
       " ['Sprinkles Martin', 'Angela', 'Martin'],\n",
       " ['Princess Lady Martin', 'Angela', 'Martin'],\n",
       " ['Ember Martin', 'Angela', 'Martin'],\n",
       " ['Milky Way Martin', 'Angela', 'Martin'],\n",
       " ['Diane Martin', 'Angela', 'Martin'],\n",
       " ['Lumpy Martin', 'Angela', 'Martin'],\n",
       " ['Petals Martin', 'Angela', 'Martin'],\n",
       " ['Mr. Ash Martin', 'Angela', 'Martin'],\n",
       " ['Phillip Martin', 'Angela', 'Martin'],\n",
       " ['Bandit Martin', 'Angela', 'Martin'],\n",
       " ['Comstock Martin', 'Angela', 'Martin'],\n",
       " ['Lily Hudson', 'Stanley', 'Hudson'],\n",
       " ['Ruth Bader Ginsberg Martinez', 'Oscar', 'Martinez'],\n",
       " ['Neitzsche Martinez', 'Oscar', 'Martinez'],\n",
       " ['Buster Vance', 'Phyllis', 'Vance'],\n",
       " ['Sadie Palmer', 'Meredith', 'Palmer'],\n",
       " ['Wuphf Kapoor', 'Kelly', 'Kapoor']]"
      ]
     },
     "execution_count": 15,
     "metadata": {},
     "output_type": "execute_result"
    }
   ],
   "source": [
    "# Complete list with pet name, owner first name, owner last name\n",
    "\n",
    "full_names = []\n",
    "\n",
    "for i in new_patients_clean:\n",
    "    name = i[1]\n",
    "    first, last = name.split(\" \")\n",
    "    full_names.append([i[0] + \" \" + last, first, last])\n",
    "\n",
    "full_names"
   ]
  },
  {
   "cell_type": "code",
   "execution_count": 21,
   "id": "f1d7a30a",
   "metadata": {},
   "outputs": [
    {
     "name": "stdout",
     "output_type": "stream",
     "text": [
      "['Pet name name', 'Fluffy Scott', 'Spots McGoo Levinson', 'Speedy Howard', 'Gordon Gekko Howard', 'Winston Churchill Beesley', 'Mr. Whiskers Halpert', 'Henrietta Shrute', 'Sprinkles Martin', 'Princess Lady Martin', 'Ember Martin', 'Milky Way Martin', 'Diane Martin', 'Lumpy Martin', 'Petals Martin', 'Mr. Ash Martin', 'Phillip Martin', 'Bandit Martin', 'Comstock Martin', 'Lily Hudson', 'Ruth Bader Ginsberg Martinez', 'Neitzsche Martinez', 'Buster Vance', 'Sadie Palmer', 'Wuphf Kapoor']\n"
     ]
    }
   ],
   "source": [
    "# List of pet names\n",
    "\n",
    "pet_full_name = []\n",
    "\n",
    "for i in full_names:\n",
    "    pet = i[0]\n",
    "    pet_full_name.append(pet)\n",
    "\n",
    "print(pet_full_name)"
   ]
  },
  {
   "cell_type": "code",
   "execution_count": 23,
   "id": "3dafed3c",
   "metadata": {},
   "outputs": [
    {
     "data": {
      "text/plain": [
       "[['owner', 'name'],\n",
       " ['Michael', 'Scott'],\n",
       " ['Jan', 'Levinson'],\n",
       " ['Ryan', 'Howard'],\n",
       " ['Ryan', 'Howard'],\n",
       " ['Pam', 'Beesley'],\n",
       " ['Jim', 'Halpert'],\n",
       " ['Dwight', 'Shrute'],\n",
       " ['Angela', 'Martin'],\n",
       " ['Angela', 'Martin'],\n",
       " ['Angela', 'Martin'],\n",
       " ['Angela', 'Martin'],\n",
       " ['Angela', 'Martin'],\n",
       " ['Angela', 'Martin'],\n",
       " ['Angela', 'Martin'],\n",
       " ['Angela', 'Martin'],\n",
       " ['Angela', 'Martin'],\n",
       " ['Angela', 'Martin'],\n",
       " ['Angela', 'Martin'],\n",
       " ['Stanley', 'Hudson'],\n",
       " ['Oscar', 'Martinez'],\n",
       " ['Oscar', 'Martinez'],\n",
       " ['Phyllis', 'Vance'],\n",
       " ['Meredith', 'Palmer'],\n",
       " ['Kelly', 'Kapoor']]"
      ]
     },
     "execution_count": 23,
     "metadata": {},
     "output_type": "execute_result"
    }
   ],
   "source": [
    "# list of owner first and last names separated\n",
    "\n",
    "owner_names = []\n",
    "\n",
    "for i in full_names:\n",
    "    owner_first = i[1]\n",
    "    owner_last = i[2]\n",
    "    owner_names.append([owner_first, owner_last])\n",
    "\n",
    "owner_names"
   ]
  }
 ],
 "metadata": {
  "kernelspec": {
   "display_name": "Python 3 (ipykernel)",
   "language": "python",
   "name": "python3"
  },
  "language_info": {
   "codemirror_mode": {
    "name": "ipython",
    "version": 3
   },
   "file_extension": ".py",
   "mimetype": "text/x-python",
   "name": "python",
   "nbconvert_exporter": "python",
   "pygments_lexer": "ipython3",
   "version": "3.8.11"
  }
 },
 "nbformat": 4,
 "nbformat_minor": 5
}
