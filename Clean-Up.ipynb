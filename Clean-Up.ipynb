{
 "cells": [
  {
   "cell_type": "markdown",
   "id": "689b448e",
   "metadata": {},
   "source": [
    "# Clean up data using Python\n",
    "\n",
    "For this section of the project, I am cleaning mock data with Python. "
   ]
  },
  {
   "cell_type": "code",
   "execution_count": 4,
   "id": "a7377805",
   "metadata": {},
   "outputs": [
    {
     "name": "stdout",
     "output_type": "stream",
     "text": [
      "ï»¿Pet name;; owner name;; pet type;; pet dob;; // Fluffy;; Michael Scott;; cat;; 5/20/2019 // Spots McGoo  ;; Jan  Levinson ;; dog;; 12/1/2015 // Speedy   ;; Ryan Howard ;; turtle ;; unknown // Gordon Gekko ;; Ryan Howard ;; turtle ;; unknown // Winston Churchill ;;   Pam   Beesley ;; dog  ;; 3/30/2009 // Mr. Whiskers  ;; Jim Halpert;; cat ;; 4/5/2018 // Henrietta;; Dwight   Shrute;; porcupine  ;; unknown // Sprinkles ;; Angela Martin  ;; cat ;; 7/19/2000 // Princess Lady;; Angela Martin  ;; cat ;; 8/4/2017 //  Ember ;; Angela Martin  ;; cat ;; 4/3/2015 //   Milky Way ;; Angela Martin  ;; cat ;; 11/15/2012 // Diane;; Angela Martin ;; cat   ;; 9/21/2015 // Lumpy  ;;  Angela  Martin  ;; 02/07/2012 // Petals ;; Angela Martin  ;; cat ;; 10/31/2010 // Mr. Ash ;; Angela Martin ;; cat ;; 6/1/2005 // Phillip ;;   Angela Martin;; cat ;; 3/20/2009 // Bandit ;; Angela Martin ;; cat ;; 2/13/2016 // Comstock   ;; Angela Martin ;; cat ;; 10/03/2017 // Lily ;; Stanley Hudson ;; dog ;; 8/8/2012 // Ruth Bader Ginsberg ;; Oscar Martinez ;; dog ;; 9/1/2016 // Neitzsche ;; Oscar Martinez ;; dog ;; 7/31/2015 // Buster ;; Phyllis Vance ;; dog ;; 8/15/2010 // Sadie ;; Meredith Palmer ;; cat ;; 1/15/2020 // Wuphf ;; Kelly Kapoor   ;; dog  ;; 12/3/2018\n"
     ]
    }
   ],
   "source": [
    "# Open file, save to f\n",
    "f = open('vet_data.txt', 'r')\n",
    "\n",
    "# Save data to variable\n",
    "content = f.read()\n",
    "\n",
    "# Check\n",
    "print(content)"
   ]
  },
  {
   "cell_type": "code",
   "execution_count": 5,
   "id": "8779418c",
   "metadata": {},
   "outputs": [
    {
     "name": "stdout",
     "output_type": "stream",
     "text": [
      "['ï»¿Pet name+ owner name+ pet type+ pet dob+ ', ' Fluffy+ Michael Scott+ cat+ 5/20/2019 ', ' Spots McGoo  + Jan  Levinson + dog+ 12/1/2015 ', ' Speedy   + Ryan Howard + turtle + unknown ', ' Gordon Gekko + Ryan Howard + turtle + unknown ', ' Winston Churchill +   Pam   Beesley + dog  + 3/30/2009 ', ' Mr. Whiskers  + Jim Halpert+ cat + 4/5/2018 ', ' Henrietta+ Dwight   Shrute+ porcupine  + unknown ', ' Sprinkles + Angela Martin  + cat + 7/19/2000 ', ' Princess Lady+ Angela Martin  + cat + 8/4/2017 ', '  Ember + Angela Martin  + cat + 4/3/2015 ', '   Milky Way + Angela Martin  + cat + 11/15/2012 ', ' Diane+ Angela Martin + cat   + 9/21/2015 ', ' Lumpy  +  Angela  Martin  + 02/07/2012 ', ' Petals + Angela Martin  + cat + 10/31/2010 ', ' Mr. Ash + Angela Martin + cat + 6/1/2005 ', ' Phillip +   Angela Martin+ cat + 3/20/2009 ', ' Bandit + Angela Martin + cat + 2/13/2016 ', ' Comstock   + Angela Martin + cat + 10/03/2017 ', ' Lily + Stanley Hudson + dog + 8/8/2012 ', ' Ruth Bader Ginsberg + Oscar Martinez + dog + 9/1/2016 ', ' Neitzsche + Oscar Martinez + dog + 7/31/2015 ', ' Buster + Phyllis Vance + dog + 8/15/2010 ', ' Sadie + Meredith Palmer + cat + 1/15/2020 ', ' Wuphf + Kelly Kapoor   + dog  + 12/3/2018']\n"
     ]
    }
   ],
   "source": [
    "# Replace ;; with another symbol\n",
    "content_replaced = content.replace(\";;\", \"+\")\n",
    "\n",
    "# Replace with comma and split\n",
    "new_patients = content_replaced.replace(\"//\", \",\").split(\",\")\n",
    "\n",
    "# Check\n",
    "print(new_patients)"
   ]
  },
  {
   "cell_type": "code",
   "execution_count": 6,
   "id": "5ee5e308",
   "metadata": {},
   "outputs": [
    {
     "data": {
      "text/plain": [
       "[['ï»¿Pet name', ' owner name', ' pet type', ' pet dob', ' '],\n",
       " [' Fluffy', ' Michael Scott', ' cat', ' 5/20/2019 '],\n",
       " [' Spots McGoo  ', ' Jan  Levinson ', ' dog', ' 12/1/2015 '],\n",
       " [' Speedy   ', ' Ryan Howard ', ' turtle ', ' unknown '],\n",
       " [' Gordon Gekko ', ' Ryan Howard ', ' turtle ', ' unknown '],\n",
       " [' Winston Churchill ', '   Pam   Beesley ', ' dog  ', ' 3/30/2009 '],\n",
       " [' Mr. Whiskers  ', ' Jim Halpert', ' cat ', ' 4/5/2018 '],\n",
       " [' Henrietta', ' Dwight   Shrute', ' porcupine  ', ' unknown '],\n",
       " [' Sprinkles ', ' Angela Martin  ', ' cat ', ' 7/19/2000 '],\n",
       " [' Princess Lady', ' Angela Martin  ', ' cat ', ' 8/4/2017 '],\n",
       " ['  Ember ', ' Angela Martin  ', ' cat ', ' 4/3/2015 '],\n",
       " ['   Milky Way ', ' Angela Martin  ', ' cat ', ' 11/15/2012 '],\n",
       " [' Diane', ' Angela Martin ', ' cat   ', ' 9/21/2015 '],\n",
       " [' Lumpy  ', '  Angela  Martin  ', ' 02/07/2012 '],\n",
       " [' Petals ', ' Angela Martin  ', ' cat ', ' 10/31/2010 '],\n",
       " [' Mr. Ash ', ' Angela Martin ', ' cat ', ' 6/1/2005 '],\n",
       " [' Phillip ', '   Angela Martin', ' cat ', ' 3/20/2009 '],\n",
       " [' Bandit ', ' Angela Martin ', ' cat ', ' 2/13/2016 '],\n",
       " [' Comstock   ', ' Angela Martin ', ' cat ', ' 10/03/2017 '],\n",
       " [' Lily ', ' Stanley Hudson ', ' dog ', ' 8/8/2012 '],\n",
       " [' Ruth Bader Ginsberg ', ' Oscar Martinez ', ' dog ', ' 9/1/2016 '],\n",
       " [' Neitzsche ', ' Oscar Martinez ', ' dog ', ' 7/31/2015 '],\n",
       " [' Buster ', ' Phyllis Vance ', ' dog ', ' 8/15/2010 '],\n",
       " [' Sadie ', ' Meredith Palmer ', ' cat ', ' 1/15/2020 '],\n",
       " [' Wuphf ', ' Kelly Kapoor   ', ' dog  ', ' 12/3/2018']]"
      ]
     },
     "execution_count": 6,
     "metadata": {},
     "output_type": "execute_result"
    }
   ],
   "source": [
    "new_patients_split = []\n",
    "\n",
    "for patient in new_patients:\n",
    "    new_patients_split.append(patient.split(\"+\"))\n",
    "\n",
    "new_patients_split"
   ]
  },
  {
   "cell_type": "code",
   "execution_count": null,
   "id": "cdbc0e72",
   "metadata": {},
   "outputs": [],
   "source": []
  }
 ],
 "metadata": {
  "kernelspec": {
   "display_name": "Python 3 (ipykernel)",
   "language": "python",
   "name": "python3"
  },
  "language_info": {
   "codemirror_mode": {
    "name": "ipython",
    "version": 3
   },
   "file_extension": ".py",
   "mimetype": "text/x-python",
   "name": "python",
   "nbconvert_exporter": "python",
   "pygments_lexer": "ipython3",
   "version": "3.8.11"
  }
 },
 "nbformat": 4,
 "nbformat_minor": 5
}
